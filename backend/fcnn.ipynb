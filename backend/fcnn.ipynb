{
 "cells": [
  {
   "cell_type": "code",
   "execution_count": 1,
   "metadata": {},
   "outputs": [
    {
     "name": "stdout",
     "output_type": "stream",
     "text": [
      "2.5.1\n",
      "NVIDIA GeForce RTX 3080\n"
     ]
    }
   ],
   "source": [
    "import torch\n",
    "import torchvision\n",
    "print(torch.__version__)\n",
    "print(torch.cuda.get_device_name(0))\n",
    "\n"
   ]
  },
  {
   "cell_type": "code",
   "execution_count": 2,
   "metadata": {},
   "outputs": [
    {
     "data": {
      "text/plain": [
       "<torch._C.Generator at 0x1d69c5f0a90>"
      ]
     },
     "execution_count": 2,
     "metadata": {},
     "output_type": "execute_result"
    }
   ],
   "source": [
    "n_epochs = 5\n",
    "batch_size_train = 64\n",
    "batch_size_test = 1000\n",
    "learning_rate = 0.01\n",
    "momentum = 0.5\n",
    "log_interval = 100\n",
    "input_size = 28 * 28\n",
    "output_size = 10\n",
    "\n",
    "random_seed = 1\n",
    "torch.backends.cudnn.enabled = False\n",
    "torch.manual_seed(random_seed)\n"
   ]
  },
  {
   "cell_type": "code",
   "execution_count": 3,
   "metadata": {},
   "outputs": [],
   "source": [
    "\n",
    "train_loader = torch.utils.data.DataLoader(\n",
    "    torchvision.datasets.MNIST('files/', train=True, download=True,\n",
    "                               transform=torchvision.transforms.Compose([\n",
    "                                   torchvision.transforms.ToTensor(),\n",
    "                                   torchvision.transforms.Normalize(\n",
    "                                       (0.5,), (0.5,))\n",
    "                               ])),\n",
    "    batch_size=batch_size_train, shuffle=True)\n",
    "\n",
    "test_loader = torch.utils.data.DataLoader(\n",
    "    torchvision.datasets.MNIST('files/', train=False, download=True,\n",
    "                               transform=torchvision.transforms.Compose([\n",
    "                                   torchvision.transforms.ToTensor(),\n",
    "                                   torchvision.transforms.Normalize(\n",
    "                                       (0.5,), (0.5,))\n",
    "                               ])),\n",
    "    batch_size=batch_size_test, shuffle=True)\n"
   ]
  },
  {
   "cell_type": "code",
   "execution_count": 4,
   "metadata": {},
   "outputs": [],
   "source": [
    "examples = enumerate(test_loader)\n",
    "batch_idx, (example_data, example_targets) = next(examples)"
   ]
  },
  {
   "cell_type": "code",
   "execution_count": 5,
   "metadata": {},
   "outputs": [
    {
     "data": {
      "text/plain": [
       "torch.Size([1000, 1, 28, 28])"
      ]
     },
     "execution_count": 5,
     "metadata": {},
     "output_type": "execute_result"
    }
   ],
   "source": [
    "example_data.shape\n"
   ]
  },
  {
   "cell_type": "code",
   "execution_count": 6,
   "metadata": {},
   "outputs": [
    {
     "data": {
      "image/png": "[encoded data removed]",
      "text/plain": [
       "<Figure size 640x480 with 6 Axes>"
      ]
     },
     "metadata": {},
     "output_type": "display_data"
    }
   ],
   "source": [
    "import matplotlib.pyplot as plt\n",
    "\n",
    "fig = plt.figure()\n",
    "for i in range(6):\n",
    "  plt.subplot(2,3,i+1)\n",
    "  plt.tight_layout()\n",
    "  plt.imshow(example_data[i][0], cmap='gray', interpolation='none')\n",
    "  plt.title(\"Ground Truth: {}\".format(example_targets[i]))\n",
    "  plt.xticks([])\n",
    "  plt.yticks([])\n"
   ]
  },
  {
   "cell_type": "code",
   "execution_count": 7,
   "metadata": {},
   "outputs": [],
   "source": [
    "import torch.nn as nn\n",
    "import torch.nn.functional as F\n",
    "import torch.optim as optim"
   ]
  },
  {
   "cell_type": "code",
   "execution_count": 8,
   "metadata": {},
   "outputs": [],
   "source": [
    "device = torch.device(\"cuda\")"
   ]
  },
  {
   "cell_type": "code",
   "execution_count": 9,
   "metadata": {},
   "outputs": [],
   "source": [
    "class FCNN(nn.Module):\n",
    "    def __init__(self, input_size, output_size):\n",
    "        super(FCNN, self).__init__()\n",
    "        self.fc1 = nn.Linear(input_size, 20)  # First hidden layer with 16 nodes\n",
    "        self.fc2 = nn.Linear(20, 20)         # Second hidden layer with 16 nodes\n",
    "        self.fc3 = nn.Linear(20, output_size)  # Output layer for classification\n",
    "\n",
    "    def forward(self, x):\n",
    "        x = torch.relu(self.fc1(x))  # ReLU after first hidden layer\n",
    "        x = torch.relu(self.fc2(x))  # ReLU after second hidden layer\n",
    "        x = self.fc3(x)  # Output layer\n",
    "        return x"
   ]
  },
  {
   "cell_type": "code",
   "execution_count": 10,
   "metadata": {},
   "outputs": [],
   "source": [
    "# Initialize the model, loss, and optimizer\n",
    "model = FCNN(input_size, output_size)\n",
    "model = model.to(device)\n",
    "criterion = nn.CrossEntropyLoss()  # Loss for classification\n",
    "optimizer = optim.Adam(model.parameters(), lr=learning_rate)"
   ]
  },
  {
   "cell_type": "code",
   "execution_count": 11,
   "metadata": {},
   "outputs": [],
   "source": [
    "train_losses = []\n",
    "train_counter = []\n",
    "test_losses = []\n",
    "test_counter = [i*len(train_loader.dataset) for i in range(n_epochs + 1)]"
   ]
  },
  {
   "cell_type": "code",
   "execution_count": 12,
   "metadata": {},
   "outputs": [],
   "source": [
    "def train(epoch):\n",
    "  model.train()\n",
    "  for batch_idx, (data, target) in enumerate(train_loader):\n",
    "    data, target = data.to(device), target.to(device)\n",
    "    optimizer.zero_grad()\n",
    "    data = data.view(-1, 28*28)\n",
    "    output = model(data)\n",
    "    loss = criterion(output, target)\n",
    "    loss.backward()\n",
    "    optimizer.step()\n",
    "    if batch_idx % log_interval == 0:\n",
    "      print('Train Epoch: {} [{}/{} ({:.0f}%)]\\tLoss: {:.6f}'.format(\n",
    "        epoch, batch_idx * len(data), len(train_loader.dataset),\n",
    "        100. * batch_idx / len(train_loader), loss.item()))\n",
    "      train_losses.append(loss.item())\n",
    "      train_counter.append(\n",
    "        (batch_idx*64) + ((epoch-1)*len(train_loader.dataset)))\n",
    "      torch.save(model.state_dict(), 'results/fcnnModel.pth')\n",
    "      torch.save(optimizer.state_dict(), 'results/fcnnOptimizer.pth')"
   ]
  },
  {
   "cell_type": "code",
   "execution_count": 13,
   "metadata": {},
   "outputs": [],
   "source": [
    "def test():\n",
    "  model.eval()\n",
    "  test_loss = 0\n",
    "  correct = 0\n",
    "  with torch.no_grad():\n",
    "    for data, target in test_loader:\n",
    "      data, target = data.to(device), target.to(device)\n",
    "      data = data.view(-1, 28*28)\n",
    "      output: torch.Tensor = model(data)\n",
    "\n",
    "      _, predicted = torch.max(output, 1)\n",
    "      correct += predicted.eq(target.data.view_as(predicted)).sum()\n",
    "      test_loss += criterion(output, target).item()\n",
    "  test_loss /= len(test_loader.dataset)\n",
    "  test_losses.append(test_loss)\n",
    "  print('\\nTest set: Avg. loss: {:.4f}, Accuracy: {}/{} ({:.0f}%)\\n'.format(\n",
    "    test_loss, correct, len(test_loader.dataset),\n",
    "    100. * correct / len(test_loader.dataset)))"
   ]
  },
  {
   "cell_type": "code",
   "execution_count": 14,
   "metadata": {},
   "outputs": [
    {
     "name": "stdout",
     "output_type": "stream",
     "text": [
      "\n",
      "Test set: Avg. loss: 0.0023, Accuracy: 984/10000 (10%)\n",
      "\n"
     ]
    }
   ],
   "source": [
    "test()\n"
   ]
  },
  {
   "cell_type": "code",
   "execution_count": 15,
   "metadata": {},
   "outputs": [
    {
     "name": "stdout",
     "output_type": "stream",
     "text": [
      "Train Epoch: 1 [0/60000 (0%)]\tLoss: 2.327109\n",
      "Train Epoch: 1 [6400/60000 (11%)]\tLoss: 0.960739\n",
      "Train Epoch: 1 [12800/60000 (21%)]\tLoss: 1.262177\n",
      "Train Epoch: 1 [19200/60000 (32%)]\tLoss: 0.873196\n",
      "Train Epoch: 1 [25600/60000 (43%)]\tLoss: 0.737246\n",
      "Train Epoch: 1 [32000/60000 (53%)]\tLoss: 0.423200\n",
      "Train Epoch: 1 [38400/60000 (64%)]\tLoss: 0.553184\n",
      "Train Epoch: 1 [44800/60000 (75%)]\tLoss: 0.372461\n",
      "Train Epoch: 1 [51200/60000 (85%)]\tLoss: 0.293493\n",
      "Train Epoch: 1 [57600/60000 (96%)]\tLoss: 0.610947\n",
      "\n",
      "Test set: Avg. loss: 0.0004, Accuracy: 8738/10000 (87%)\n",
      "\n",
      "Train Epoch: 2 [0/60000 (0%)]\tLoss: 0.479460\n",
      "Train Epoch: 2 [6400/60000 (11%)]\tLoss: 0.642224\n",
      "Train Epoch: 2 [12800/60000 (21%)]\tLoss: 0.636211\n",
      "Train Epoch: 2 [19200/60000 (32%)]\tLoss: 0.543140\n",
      "Train Epoch: 2 [25600/60000 (43%)]\tLoss: 0.482299\n",
      "Train Epoch: 2 [32000/60000 (53%)]\tLoss: 0.370055\n",
      "Train Epoch: 2 [38400/60000 (64%)]\tLoss: 0.406114\n",
      "Train Epoch: 2 [44800/60000 (75%)]\tLoss: 0.822042\n",
      "Train Epoch: 2 [51200/60000 (85%)]\tLoss: 0.197130\n",
      "Train Epoch: 2 [57600/60000 (96%)]\tLoss: 0.584021\n",
      "\n",
      "Test set: Avg. loss: 0.0004, Accuracy: 8757/10000 (88%)\n",
      "\n",
      "Train Epoch: 3 [0/60000 (0%)]\tLoss: 0.253468\n",
      "Train Epoch: 3 [6400/60000 (11%)]\tLoss: 0.587887\n",
      "Train Epoch: 3 [12800/60000 (21%)]\tLoss: 0.338107\n",
      "Train Epoch: 3 [19200/60000 (32%)]\tLoss: 0.412678\n",
      "Train Epoch: 3 [25600/60000 (43%)]\tLoss: 0.439149\n",
      "Train Epoch: 3 [32000/60000 (53%)]\tLoss: 0.326472\n",
      "Train Epoch: 3 [38400/60000 (64%)]\tLoss: 0.427027\n",
      "Train Epoch: 3 [44800/60000 (75%)]\tLoss: 0.361592\n",
      "Train Epoch: 3 [51200/60000 (85%)]\tLoss: 0.267521\n",
      "Train Epoch: 3 [57600/60000 (96%)]\tLoss: 0.329403\n",
      "\n",
      "Test set: Avg. loss: 0.0004, Accuracy: 8710/10000 (87%)\n",
      "\n",
      "Train Epoch: 4 [0/60000 (0%)]\tLoss: 0.212361\n",
      "Train Epoch: 4 [6400/60000 (11%)]\tLoss: 0.491970\n",
      "Train Epoch: 4 [12800/60000 (21%)]\tLoss: 0.466606\n",
      "Train Epoch: 4 [19200/60000 (32%)]\tLoss: 0.315739\n",
      "Train Epoch: 4 [25600/60000 (43%)]\tLoss: 0.351306\n",
      "Train Epoch: 4 [32000/60000 (53%)]\tLoss: 0.546496\n",
      "Train Epoch: 4 [38400/60000 (64%)]\tLoss: 0.172465\n",
      "Train Epoch: 4 [44800/60000 (75%)]\tLoss: 0.292156\n",
      "Train Epoch: 4 [51200/60000 (85%)]\tLoss: 0.403326\n",
      "Train Epoch: 4 [57600/60000 (96%)]\tLoss: 0.307679\n",
      "\n",
      "Test set: Avg. loss: 0.0004, Accuracy: 8855/10000 (89%)\n",
      "\n",
      "Train Epoch: 5 [0/60000 (0%)]\tLoss: 0.410487\n",
      "Train Epoch: 5 [6400/60000 (11%)]\tLoss: 0.342108\n",
      "Train Epoch: 5 [12800/60000 (21%)]\tLoss: 0.316909\n",
      "Train Epoch: 5 [19200/60000 (32%)]\tLoss: 0.558723\n",
      "Train Epoch: 5 [25600/60000 (43%)]\tLoss: 0.121724\n",
      "Train Epoch: 5 [32000/60000 (53%)]\tLoss: 0.327336\n",
      "Train Epoch: 5 [38400/60000 (64%)]\tLoss: 0.334151\n",
      "Train Epoch: 5 [44800/60000 (75%)]\tLoss: 0.538602\n",
      "Train Epoch: 5 [51200/60000 (85%)]\tLoss: 0.732590\n",
      "Train Epoch: 5 [57600/60000 (96%)]\tLoss: 0.370034\n",
      "\n",
      "Test set: Avg. loss: 0.0004, Accuracy: 8923/10000 (89%)\n",
      "\n"
     ]
    }
   ],
   "source": [
    "for epoch in range(1, n_epochs + 1):\n",
    "  train(epoch)\n",
    "  test()"
   ]
  },
  {
   "cell_type": "code",
   "execution_count": 16,
   "metadata": {},
   "outputs": [
    {
     "data": {
      "text/plain": [
       "([], [])"
      ]
     },
     "execution_count": 16,
     "metadata": {},
     "output_type": "execute_result"
    },
    {
     "data": {
      "image/png": "[encoded data removed]",
      "text/plain": [
       "<Figure size 640x480 with 1 Axes>"
      ]
     },
     "metadata": {},
     "output_type": "display_data"
    }
   ],
   "source": [
    "fig = plt.figure()\n",
    "plt.plot(train_counter, train_losses, color='blue')\n",
    "plt.scatter(test_counter, test_losses, color='red')\n",
    "plt.legend(['Train Loss', 'Test Loss'], loc='upper right')\n",
    "plt.xlabel('number of training examples seen')\n",
    "plt.ylabel('negative log likelihood loss')\n",
    "plt.xticks([])\n",
    "plt.yticks([])"
   ]
  },
  {
   "cell_type": "code",
   "execution_count": 35,
   "metadata": {},
   "outputs": [],
   "source": [
    "with torch.no_grad():\n",
    "  data, target = example_data.to(device), example_targets.to(device)\n",
    "  data = data.view(-1, 28*28)\n",
    "  output = model(data)\n",
    "\n",
    "  "
   ]
  },
  {
   "cell_type": "code",
   "execution_count": 36,
   "metadata": {},
   "outputs": [
    {
     "data": {
      "image/png": "[encoded data removed]",
      "text/plain": [
       "<Figure size 640x480 with 6 Axes>"
      ]
     },
     "metadata": {},
     "output_type": "display_data"
    }
   ],
   "source": [
    "fig = plt.figure()\n",
    "for i in range(6):\n",
    "  plt.subplot(2,3,i+1)\n",
    "  plt.tight_layout()\n",
    "  plt.imshow(example_data[i][0], cmap='gray', interpolation='none')\n",
    "  plt.title(\"Prediction: {}\".format(\n",
    "    output.max(1, keepdim=True)[1][i].item()))\n",
    "  plt.xticks([])\n",
    "  plt.yticks([])"
   ]
  },
  {
   "cell_type": "code",
   "execution_count": 34,
   "metadata": {},
   "outputs": [
    {
     "name": "stdout",
     "output_type": "stream",
     "text": [
      "tensor([[    0.00000046296707978399,     0.00000000695430113495,\n",
      "             0.00000569308576814365,     0.00000067588598540169,\n",
      "             0.01581566594541072845,     0.00010127563291462138,\n",
      "             0.00000000000000368132,     0.02147671580314636230,\n",
      "             0.00000275122465609456,     0.96259671449661254883]],\n",
      "       device='cuda:0')\n"
     ]
    }
   ],
   "source": [
    "with torch.no_grad():\n",
    "  data, target = example_data[3].to(device), example_targets[3].to(device)\n",
    "  data = data.view(-1, 28*28)\n",
    "  output = model(data)\n",
    "  torch.set_printoptions(precision=20, sci_mode=False)\n",
    "\n",
    "  print(nn.Softmax(dim=1)(output))"
   ]
  },
  {
   "cell_type": "code",
   "execution_count": 52,
   "metadata": {},
   "outputs": [],
   "source": [
    "import json\n",
    "with open(\"results/weights.json\", \"w\") as f:\n",
    "    json_dict = {}\n",
    "    for key, value in model.state_dict().items():\n",
    "        json_dict[key] = value.tolist()\n",
    "    json.dump(json_dict, f)\n",
    "    # json.dump(model.state_dict(), f)\n"
   ]
  }
 ],
 "metadata": {
  "kernelspec": {
   "display_name": "digits",
   "language": "python",
   "name": "python3"
  },
  "language_info": {
   "codemirror_mode": {
    "name": "ipython",
    "version": 3
   },
   "file_extension": ".py",
   "mimetype": "text/x-python",
   "name": "python",
   "nbconvert_exporter": "python",
   "pygments_lexer": "ipython3",
   "version": "3.11.10"
  }
 },
 "nbformat": 4,
 "nbformat_minor": 2
}
