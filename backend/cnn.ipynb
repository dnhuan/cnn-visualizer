{
 "cells": [
  {
   "cell_type": "code",
   "execution_count": 1,
   "metadata": {},
   "outputs": [
    {
     "name": "stdout",
     "output_type": "stream",
     "text": [
      "2.5.1\n",
      "NVIDIA GeForce RTX 3080\n"
     ]
    }
   ],
   "source": [
    "import torch\n",
    "import torchvision\n",
    "print(torch.__version__)\n",
    "print(torch.cuda.get_device_name(0))\n",
    "\n"
   ]
  },
  {
   "cell_type": "code",
   "execution_count": 2,
   "metadata": {},
   "outputs": [
    {
     "data": {
      "text/plain": [
       "<torch._C.Generator at 0x1fa855d0a90>"
      ]
     },
     "execution_count": 2,
     "metadata": {},
     "output_type": "execute_result"
    }
   ],
   "source": [
    "n_epochs = 3\n",
    "batch_size_train = 64\n",
    "batch_size_test = 1000\n",
    "learning_rate = 0.01\n",
    "momentum = 0.5\n",
    "log_interval = 10\n",
    "\n",
    "random_seed = 1\n",
    "torch.backends.cudnn.enabled = False\n",
    "torch.manual_seed(random_seed)\n"
   ]
  },
  {
   "cell_type": "code",
   "execution_count": 3,
   "metadata": {},
   "outputs": [],
   "source": [
    "train_loader = torch.utils.data.DataLoader(\n",
    "    torchvision.datasets.MNIST('files/', train=True, download=True,\n",
    "                               transform=torchvision.transforms.Compose([\n",
    "                                   torchvision.transforms.ToTensor(),\n",
    "                                   torchvision.transforms.Normalize(\n",
    "                                       (0.1307,), (0.3081,))\n",
    "                               ])),\n",
    "    batch_size=batch_size_train, shuffle=True)\n",
    "\n",
    "test_loader = torch.utils.data.DataLoader(\n",
    "    torchvision.datasets.MNIST('files/', train=False, download=True,\n",
    "                               transform=torchvision.transforms.Compose([\n",
    "                                   torchvision.transforms.ToTensor(),\n",
    "                                   torchvision.transforms.Normalize(\n",
    "                                       (0.1307,), (0.3081,))\n",
    "                               ])),\n",
    "    batch_size=batch_size_test, shuffle=True)\n"
   ]
  },
  {
   "cell_type": "code",
   "execution_count": 4,
   "metadata": {},
   "outputs": [],
   "source": [
    "examples = enumerate(test_loader)\n",
    "batch_idx, (example_data, example_targets) = next(examples)"
   ]
  },
  {
   "cell_type": "code",
   "execution_count": 5,
   "metadata": {},
   "outputs": [
    {
     "data": {
      "text/plain": [
       "torch.Size([1000, 1, 28, 28])"
      ]
     },
     "execution_count": 5,
     "metadata": {},
     "output_type": "execute_result"
    }
   ],
   "source": [
    "example_data.shape\n"
   ]
  },
  {
   "cell_type": "code",
   "execution_count": 6,
   "metadata": {},
   "outputs": [
    {
     "data": {
      "image/png": "[encoded data removed]",
      "text/plain": [
       "<Figure size 640x480 with 6 Axes>"
      ]
     },
     "metadata": {},
     "output_type": "display_data"
    }
   ],
   "source": [
    "import matplotlib.pyplot as plt\n",
    "\n",
    "fig = plt.figure()\n",
    "for i in range(6):\n",
    "  plt.subplot(2,3,i+1)\n",
    "  plt.tight_layout()\n",
    "  plt.imshow(example_data[i][0], cmap='gray', interpolation='none')\n",
    "  plt.title(\"Ground Truth: {}\".format(example_targets[i]))\n",
    "  plt.xticks([])\n",
    "  plt.yticks([])\n"
   ]
  },
  {
   "cell_type": "code",
   "execution_count": 7,
   "metadata": {},
   "outputs": [],
   "source": [
    "import torch.nn as nn\n",
    "import torch.nn.functional as F\n",
    "import torch.optim as optim"
   ]
  },
  {
   "cell_type": "code",
   "execution_count": 8,
   "metadata": {},
   "outputs": [],
   "source": [
    "device = torch.device(\"cuda\")"
   ]
  },
  {
   "cell_type": "code",
   "execution_count": 9,
   "metadata": {},
   "outputs": [],
   "source": [
    "class Net(nn.Module):\n",
    "    def __init__(self):\n",
    "        super(Net, self).__init__()\n",
    "        self.conv1 = nn.Conv2d(1, 10, kernel_size=5)\n",
    "        self.conv2 = nn.Conv2d(10, 20, kernel_size=5)\n",
    "        self.conv2_drop = nn.Dropout2d()\n",
    "        self.fc1 = nn.Linear(320, 50)\n",
    "        self.fc2 = nn.Linear(50, 10)\n",
    "\n",
    "    def forward(self, x):\n",
    "        x = F.relu(F.max_pool2d(self.conv1(x), 2))\n",
    "        x = F.relu(F.max_pool2d(self.conv2_drop(self.conv2(x)), 2))\n",
    "        x = x.view(-1, 320)\n",
    "        x = F.relu(self.fc1(x))\n",
    "        x = F.dropout(x, training=self.training)\n",
    "        x = self.fc2(x)\n",
    "        return F.log_softmax(x)"
   ]
  },
  {
   "cell_type": "code",
   "execution_count": 10,
   "metadata": {},
   "outputs": [],
   "source": [
    "network = Net()\n",
    "network = network.to(device)\n",
    "optimizer = optim.SGD(network.parameters(), lr=learning_rate,\n",
    "                      momentum=momentum)"
   ]
  },
  {
   "cell_type": "code",
   "execution_count": 11,
   "metadata": {},
   "outputs": [],
   "source": [
    "train_losses = []\n",
    "train_counter = []\n",
    "test_losses = []\n",
    "test_counter = [i*len(train_loader.dataset) for i in range(n_epochs + 1)]"
   ]
  },
  {
   "cell_type": "code",
   "execution_count": 12,
   "metadata": {},
   "outputs": [],
   "source": [
    "def train(epoch):\n",
    "  network.train()\n",
    "  for batch_idx, (data, target) in enumerate(train_loader):\n",
    "    data, target = data.to(device), target.to(device)\n",
    "\n",
    "    optimizer.zero_grad()\n",
    "    output = network(data)\n",
    "    loss = F.nll_loss(output, target)\n",
    "    loss.backward()\n",
    "    optimizer.step()\n",
    "    if batch_idx % log_interval == 0:\n",
    "      print('Train Epoch: {} [{}/{} ({:.0f}%)]\\tLoss: {:.6f}'.format(\n",
    "        epoch, batch_idx * len(data), len(train_loader.dataset),\n",
    "        100. * batch_idx / len(train_loader), loss.item()))\n",
    "      train_losses.append(loss.item())\n",
    "      train_counter.append(\n",
    "        (batch_idx*64) + ((epoch-1)*len(train_loader.dataset)))\n",
    "      torch.save(network.state_dict(), 'results/model.pth')\n",
    "      torch.save(optimizer.state_dict(), 'results/optimizer.pth')"
   ]
  },
  {
   "cell_type": "code",
   "execution_count": 13,
   "metadata": {},
   "outputs": [],
   "source": [
    "def test():\n",
    "  network.eval()\n",
    "  test_loss = 0\n",
    "  correct = 0\n",
    "  with torch.no_grad():\n",
    "    for data, target in test_loader:\n",
    "      data, target = data.to(device), target.to(device)\n",
    "      output = network(data)\n",
    "      test_loss += F.nll_loss(output, target, size_average=False).item()\n",
    "      pred = output.data.max(1, keepdim=True)[1]\n",
    "      correct += pred.eq(target.data.view_as(pred)).sum()\n",
    "  test_loss /= len(test_loader.dataset)\n",
    "  test_losses.append(test_loss)\n",
    "  print('\\nTest set: Avg. loss: {:.4f}, Accuracy: {}/{} ({:.0f}%)\\n'.format(\n",
    "    test_loss, correct, len(test_loader.dataset),\n",
    "    100. * correct / len(test_loader.dataset)))"
   ]
  },
  {
   "cell_type": "code",
   "execution_count": 14,
   "metadata": {},
   "outputs": [
    {
     "name": "stderr",
     "output_type": "stream",
     "text": [
      "C:\\Users\\huand\\AppData\\Local\\Temp\\ipykernel_21120\\161431047.py:17: UserWarning: Implicit dimension choice for log_softmax has been deprecated. Change the call to include dim=X as an argument.\n",
      "  return F.log_softmax(x)\n",
      "c:\\Users\\huand\\miniforge-pypy3\\envs\\digits\\Lib\\site-packages\\torch\\nn\\_reduction.py:51: UserWarning: size_average and reduce args will be deprecated, please use reduction='sum' instead.\n",
      "  warnings.warn(warning.format(ret))\n"
     ]
    },
    {
     "name": "stdout",
     "output_type": "stream",
     "text": [
      "\n",
      "Test set: Avg. loss: 2.3096, Accuracy: 924/10000 (9%)\n",
      "\n",
      "Train Epoch: 1 [0/60000 (0%)]\tLoss: 2.331797\n",
      "Train Epoch: 1 [640/60000 (1%)]\tLoss: 2.303324\n",
      "Train Epoch: 1 [1280/60000 (2%)]\tLoss: 2.266475\n",
      "Train Epoch: 1 [1920/60000 (3%)]\tLoss: 2.272787\n",
      "Train Epoch: 1 [2560/60000 (4%)]\tLoss: 2.261453\n",
      "Train Epoch: 1 [3200/60000 (5%)]\tLoss: 2.231299\n",
      "Train Epoch: 1 [3840/60000 (6%)]\tLoss: 2.225890\n",
      "Train Epoch: 1 [4480/60000 (7%)]\tLoss: 2.222582\n",
      "Train Epoch: 1 [5120/60000 (9%)]\tLoss: 2.114448\n",
      "Train Epoch: 1 [5760/60000 (10%)]\tLoss: 2.042787\n",
      "Train Epoch: 1 [6400/60000 (11%)]\tLoss: 1.954830\n",
      "Train Epoch: 1 [7040/60000 (12%)]\tLoss: 1.993595\n",
      "Train Epoch: 1 [7680/60000 (13%)]\tLoss: 1.803929\n",
      "Train Epoch: 1 [8320/60000 (14%)]\tLoss: 1.503879\n",
      "Train Epoch: 1 [8960/60000 (15%)]\tLoss: 1.451350\n",
      "Train Epoch: 1 [9600/60000 (16%)]\tLoss: 1.506524\n",
      "Train Epoch: 1 [10240/60000 (17%)]\tLoss: 1.314457\n",
      "Train Epoch: 1 [10880/60000 (18%)]\tLoss: 1.360069\n",
      "Train Epoch: 1 [11520/60000 (19%)]\tLoss: 1.430165\n",
      "Train Epoch: 1 [12160/60000 (20%)]\tLoss: 1.008514\n",
      "Train Epoch: 1 [12800/60000 (21%)]\tLoss: 1.146570\n",
      "Train Epoch: 1 [13440/60000 (22%)]\tLoss: 1.067600\n",
      "Train Epoch: 1 [14080/60000 (23%)]\tLoss: 1.266786\n",
      "Train Epoch: 1 [14720/60000 (25%)]\tLoss: 0.988731\n",
      "Train Epoch: 1 [15360/60000 (26%)]\tLoss: 0.941101\n",
      "Train Epoch: 1 [16000/60000 (27%)]\tLoss: 0.863851\n",
      "Train Epoch: 1 [16640/60000 (28%)]\tLoss: 0.934806\n",
      "Train Epoch: 1 [17280/60000 (29%)]\tLoss: 0.672956\n",
      "Train Epoch: 1 [17920/60000 (30%)]\tLoss: 0.978618\n",
      "Train Epoch: 1 [18560/60000 (31%)]\tLoss: 0.844284\n",
      "Train Epoch: 1 [19200/60000 (32%)]\tLoss: 0.850125\n",
      "Train Epoch: 1 [19840/60000 (33%)]\tLoss: 0.859705\n",
      "Train Epoch: 1 [20480/60000 (34%)]\tLoss: 0.601941\n",
      "Train Epoch: 1 [21120/60000 (35%)]\tLoss: 0.634166\n",
      "Train Epoch: 1 [21760/60000 (36%)]\tLoss: 0.783502\n",
      "Train Epoch: 1 [22400/60000 (37%)]\tLoss: 1.035222\n",
      "Train Epoch: 1 [23040/60000 (38%)]\tLoss: 0.733438\n",
      "Train Epoch: 1 [23680/60000 (39%)]\tLoss: 0.464971\n",
      "Train Epoch: 1 [24320/60000 (41%)]\tLoss: 0.919510\n",
      "Train Epoch: 1 [24960/60000 (42%)]\tLoss: 0.700610\n",
      "Train Epoch: 1 [25600/60000 (43%)]\tLoss: 0.751843\n",
      "Train Epoch: 1 [26240/60000 (44%)]\tLoss: 0.637847\n",
      "Train Epoch: 1 [26880/60000 (45%)]\tLoss: 0.531472\n",
      "Train Epoch: 1 [27520/60000 (46%)]\tLoss: 0.506671\n",
      "Train Epoch: 1 [28160/60000 (47%)]\tLoss: 0.631460\n",
      "Train Epoch: 1 [28800/60000 (48%)]\tLoss: 0.504474\n",
      "Train Epoch: 1 [29440/60000 (49%)]\tLoss: 0.767774\n",
      "Train Epoch: 1 [30080/60000 (50%)]\tLoss: 0.738783\n",
      "Train Epoch: 1 [30720/60000 (51%)]\tLoss: 0.562670\n",
      "Train Epoch: 1 [31360/60000 (52%)]\tLoss: 0.751500\n",
      "Train Epoch: 1 [32000/60000 (53%)]\tLoss: 0.803240\n",
      "Train Epoch: 1 [32640/60000 (54%)]\tLoss: 0.422973\n",
      "Train Epoch: 1 [33280/60000 (55%)]\tLoss: 0.613934\n",
      "Train Epoch: 1 [33920/60000 (57%)]\tLoss: 0.582980\n",
      "Train Epoch: 1 [34560/60000 (58%)]\tLoss: 0.549240\n",
      "Train Epoch: 1 [35200/60000 (59%)]\tLoss: 0.744977\n",
      "Train Epoch: 1 [35840/60000 (60%)]\tLoss: 0.492885\n",
      "Train Epoch: 1 [36480/60000 (61%)]\tLoss: 0.550478\n",
      "Train Epoch: 1 [37120/60000 (62%)]\tLoss: 0.560902\n",
      "Train Epoch: 1 [37760/60000 (63%)]\tLoss: 0.592387\n",
      "Train Epoch: 1 [38400/60000 (64%)]\tLoss: 0.609082\n",
      "Train Epoch: 1 [39040/60000 (65%)]\tLoss: 0.628714\n",
      "Train Epoch: 1 [39680/60000 (66%)]\tLoss: 0.869597\n",
      "Train Epoch: 1 [40320/60000 (67%)]\tLoss: 0.308084\n",
      "Train Epoch: 1 [40960/60000 (68%)]\tLoss: 0.346359\n",
      "Train Epoch: 1 [41600/60000 (69%)]\tLoss: 0.394314\n",
      "Train Epoch: 1 [42240/60000 (70%)]\tLoss: 0.391432\n",
      "Train Epoch: 1 [42880/60000 (71%)]\tLoss: 0.547985\n",
      "Train Epoch: 1 [43520/60000 (72%)]\tLoss: 0.539446\n",
      "Train Epoch: 1 [44160/60000 (74%)]\tLoss: 0.504332\n",
      "Train Epoch: 1 [44800/60000 (75%)]\tLoss: 0.611089\n",
      "Train Epoch: 1 [45440/60000 (76%)]\tLoss: 0.458473\n",
      "Train Epoch: 1 [46080/60000 (77%)]\tLoss: 0.583516\n",
      "Train Epoch: 1 [46720/60000 (78%)]\tLoss: 0.426857\n",
      "Train Epoch: 1 [47360/60000 (79%)]\tLoss: 0.578128\n",
      "Train Epoch: 1 [48000/60000 (80%)]\tLoss: 0.416163\n",
      "Train Epoch: 1 [48640/60000 (81%)]\tLoss: 0.478167\n",
      "Train Epoch: 1 [49280/60000 (82%)]\tLoss: 0.410113\n",
      "Train Epoch: 1 [49920/60000 (83%)]\tLoss: 0.524831\n",
      "Train Epoch: 1 [50560/60000 (84%)]\tLoss: 0.575557\n",
      "Train Epoch: 1 [51200/60000 (85%)]\tLoss: 0.542531\n",
      "Train Epoch: 1 [51840/60000 (86%)]\tLoss: 0.484090\n",
      "Train Epoch: 1 [52480/60000 (87%)]\tLoss: 0.638070\n",
      "Train Epoch: 1 [53120/60000 (88%)]\tLoss: 0.520664\n",
      "Train Epoch: 1 [53760/60000 (90%)]\tLoss: 0.517263\n",
      "Train Epoch: 1 [54400/60000 (91%)]\tLoss: 0.655900\n",
      "Train Epoch: 1 [55040/60000 (92%)]\tLoss: 0.633939\n",
      "Train Epoch: 1 [55680/60000 (93%)]\tLoss: 0.376612\n",
      "Train Epoch: 1 [56320/60000 (94%)]\tLoss: 0.504031\n",
      "Train Epoch: 1 [56960/60000 (95%)]\tLoss: 0.428451\n",
      "Train Epoch: 1 [57600/60000 (96%)]\tLoss: 0.450511\n",
      "Train Epoch: 1 [58240/60000 (97%)]\tLoss: 0.609778\n",
      "Train Epoch: 1 [58880/60000 (98%)]\tLoss: 0.527291\n",
      "Train Epoch: 1 [59520/60000 (99%)]\tLoss: 0.392598\n",
      "\n",
      "Test set: Avg. loss: 0.1839, Accuracy: 9437/10000 (94%)\n",
      "\n",
      "Train Epoch: 2 [0/60000 (0%)]\tLoss: 0.370894\n",
      "Train Epoch: 2 [640/60000 (1%)]\tLoss: 0.494950\n",
      "Train Epoch: 2 [1280/60000 (2%)]\tLoss: 0.491319\n",
      "Train Epoch: 2 [1920/60000 (3%)]\tLoss: 0.520260\n",
      "Train Epoch: 2 [2560/60000 (4%)]\tLoss: 0.318453\n",
      "Train Epoch: 2 [3200/60000 (5%)]\tLoss: 0.507573\n",
      "Train Epoch: 2 [3840/60000 (6%)]\tLoss: 0.422210\n",
      "Train Epoch: 2 [4480/60000 (7%)]\tLoss: 0.548243\n",
      "Train Epoch: 2 [5120/60000 (9%)]\tLoss: 0.444210\n",
      "Train Epoch: 2 [5760/60000 (10%)]\tLoss: 0.302611\n",
      "Train Epoch: 2 [6400/60000 (11%)]\tLoss: 0.742691\n",
      "Train Epoch: 2 [7040/60000 (12%)]\tLoss: 0.568273\n",
      "Train Epoch: 2 [7680/60000 (13%)]\tLoss: 0.301943\n",
      "Train Epoch: 2 [8320/60000 (14%)]\tLoss: 0.298676\n",
      "Train Epoch: 2 [8960/60000 (15%)]\tLoss: 0.354087\n",
      "Train Epoch: 2 [9600/60000 (16%)]\tLoss: 0.381651\n",
      "Train Epoch: 2 [10240/60000 (17%)]\tLoss: 0.268377\n",
      "Train Epoch: 2 [10880/60000 (18%)]\tLoss: 0.455353\n",
      "Train Epoch: 2 [11520/60000 (19%)]\tLoss: 0.539333\n",
      "Train Epoch: 2 [12160/60000 (20%)]\tLoss: 0.202819\n",
      "Train Epoch: 2 [12800/60000 (21%)]\tLoss: 0.480172\n",
      "Train Epoch: 2 [13440/60000 (22%)]\tLoss: 0.369940\n",
      "Train Epoch: 2 [14080/60000 (23%)]\tLoss: 0.303651\n",
      "Train Epoch: 2 [14720/60000 (25%)]\tLoss: 0.245174\n",
      "Train Epoch: 2 [15360/60000 (26%)]\tLoss: 0.565574\n",
      "Train Epoch: 2 [16000/60000 (27%)]\tLoss: 0.480702\n",
      "Train Epoch: 2 [16640/60000 (28%)]\tLoss: 0.625353\n",
      "Train Epoch: 2 [17280/60000 (29%)]\tLoss: 0.425248\n",
      "Train Epoch: 2 [17920/60000 (30%)]\tLoss: 0.205002\n",
      "Train Epoch: 2 [18560/60000 (31%)]\tLoss: 0.628789\n",
      "Train Epoch: 2 [19200/60000 (32%)]\tLoss: 0.554976\n",
      "Train Epoch: 2 [19840/60000 (33%)]\tLoss: 0.443282\n",
      "Train Epoch: 2 [20480/60000 (34%)]\tLoss: 0.531616\n",
      "Train Epoch: 2 [21120/60000 (35%)]\tLoss: 0.361769\n",
      "Train Epoch: 2 [21760/60000 (36%)]\tLoss: 0.595049\n",
      "Train Epoch: 2 [22400/60000 (37%)]\tLoss: 0.549428\n",
      "Train Epoch: 2 [23040/60000 (38%)]\tLoss: 0.543188\n",
      "Train Epoch: 2 [23680/60000 (39%)]\tLoss: 0.561992\n",
      "Train Epoch: 2 [24320/60000 (41%)]\tLoss: 0.393412\n",
      "Train Epoch: 2 [24960/60000 (42%)]\tLoss: 0.198259\n",
      "Train Epoch: 2 [25600/60000 (43%)]\tLoss: 0.344773\n",
      "Train Epoch: 2 [26240/60000 (44%)]\tLoss: 0.235105\n",
      "Train Epoch: 2 [26880/60000 (45%)]\tLoss: 0.280641\n",
      "Train Epoch: 2 [27520/60000 (46%)]\tLoss: 0.294367\n",
      "Train Epoch: 2 [28160/60000 (47%)]\tLoss: 0.208292\n",
      "Train Epoch: 2 [28800/60000 (48%)]\tLoss: 0.339297\n",
      "Train Epoch: 2 [29440/60000 (49%)]\tLoss: 0.243829\n",
      "Train Epoch: 2 [30080/60000 (50%)]\tLoss: 0.248673\n",
      "Train Epoch: 2 [30720/60000 (51%)]\tLoss: 0.325610\n",
      "Train Epoch: 2 [31360/60000 (52%)]\tLoss: 0.394021\n",
      "Train Epoch: 2 [32000/60000 (53%)]\tLoss: 0.310987\n",
      "Train Epoch: 2 [32640/60000 (54%)]\tLoss: 0.251209\n",
      "Train Epoch: 2 [33280/60000 (55%)]\tLoss: 0.396952\n",
      "Train Epoch: 2 [33920/60000 (57%)]\tLoss: 0.403395\n",
      "Train Epoch: 2 [34560/60000 (58%)]\tLoss: 0.422935\n",
      "Train Epoch: 2 [35200/60000 (59%)]\tLoss: 0.413466\n",
      "Train Epoch: 2 [35840/60000 (60%)]\tLoss: 0.360331\n",
      "Train Epoch: 2 [36480/60000 (61%)]\tLoss: 0.297080\n",
      "Train Epoch: 2 [37120/60000 (62%)]\tLoss: 0.323424\n",
      "Train Epoch: 2 [37760/60000 (63%)]\tLoss: 0.230182\n",
      "Train Epoch: 2 [38400/60000 (64%)]\tLoss: 0.502065\n",
      "Train Epoch: 2 [39040/60000 (65%)]\tLoss: 0.433600\n",
      "Train Epoch: 2 [39680/60000 (66%)]\tLoss: 0.317858\n",
      "Train Epoch: 2 [40320/60000 (67%)]\tLoss: 0.414632\n",
      "Train Epoch: 2 [40960/60000 (68%)]\tLoss: 0.560116\n",
      "Train Epoch: 2 [41600/60000 (69%)]\tLoss: 0.502389\n",
      "Train Epoch: 2 [42240/60000 (70%)]\tLoss: 0.331092\n",
      "Train Epoch: 2 [42880/60000 (71%)]\tLoss: 0.381564\n",
      "Train Epoch: 2 [43520/60000 (72%)]\tLoss: 0.330851\n",
      "Train Epoch: 2 [44160/60000 (74%)]\tLoss: 0.353416\n",
      "Train Epoch: 2 [44800/60000 (75%)]\tLoss: 0.156469\n",
      "Train Epoch: 2 [45440/60000 (76%)]\tLoss: 0.346061\n",
      "Train Epoch: 2 [46080/60000 (77%)]\tLoss: 0.554947\n",
      "Train Epoch: 2 [46720/60000 (78%)]\tLoss: 0.260602\n",
      "Train Epoch: 2 [47360/60000 (79%)]\tLoss: 0.306149\n",
      "Train Epoch: 2 [48000/60000 (80%)]\tLoss: 0.523243\n",
      "Train Epoch: 2 [48640/60000 (81%)]\tLoss: 0.388944\n",
      "Train Epoch: 2 [49280/60000 (82%)]\tLoss: 0.093648\n",
      "Train Epoch: 2 [49920/60000 (83%)]\tLoss: 0.291820\n",
      "Train Epoch: 2 [50560/60000 (84%)]\tLoss: 0.515136\n",
      "Train Epoch: 2 [51200/60000 (85%)]\tLoss: 0.447682\n",
      "Train Epoch: 2 [51840/60000 (86%)]\tLoss: 0.341655\n",
      "Train Epoch: 2 [52480/60000 (87%)]\tLoss: 0.339122\n",
      "Train Epoch: 2 [53120/60000 (88%)]\tLoss: 0.459599\n",
      "Train Epoch: 2 [53760/60000 (90%)]\tLoss: 0.504821\n",
      "Train Epoch: 2 [54400/60000 (91%)]\tLoss: 0.447841\n",
      "Train Epoch: 2 [55040/60000 (92%)]\tLoss: 0.317072\n",
      "Train Epoch: 2 [55680/60000 (93%)]\tLoss: 0.294769\n",
      "Train Epoch: 2 [56320/60000 (94%)]\tLoss: 0.426474\n",
      "Train Epoch: 2 [56960/60000 (95%)]\tLoss: 0.288908\n",
      "Train Epoch: 2 [57600/60000 (96%)]\tLoss: 0.282296\n",
      "Train Epoch: 2 [58240/60000 (97%)]\tLoss: 0.384330\n",
      "Train Epoch: 2 [58880/60000 (98%)]\tLoss: 0.616563\n",
      "Train Epoch: 2 [59520/60000 (99%)]\tLoss: 0.401283\n",
      "\n",
      "Test set: Avg. loss: 0.1267, Accuracy: 9611/10000 (96%)\n",
      "\n",
      "Train Epoch: 3 [0/60000 (0%)]\tLoss: 0.352361\n",
      "Train Epoch: 3 [640/60000 (1%)]\tLoss: 0.218940\n",
      "Train Epoch: 3 [1280/60000 (2%)]\tLoss: 0.331517\n",
      "Train Epoch: 3 [1920/60000 (3%)]\tLoss: 0.303254\n",
      "Train Epoch: 3 [2560/60000 (4%)]\tLoss: 0.163887\n",
      "Train Epoch: 3 [3200/60000 (5%)]\tLoss: 0.362681\n",
      "Train Epoch: 3 [3840/60000 (6%)]\tLoss: 0.563005\n",
      "Train Epoch: 3 [4480/60000 (7%)]\tLoss: 0.302626\n",
      "Train Epoch: 3 [5120/60000 (9%)]\tLoss: 0.249548\n",
      "Train Epoch: 3 [5760/60000 (10%)]\tLoss: 0.522603\n",
      "Train Epoch: 3 [6400/60000 (11%)]\tLoss: 0.445835\n",
      "Train Epoch: 3 [7040/60000 (12%)]\tLoss: 0.230743\n",
      "Train Epoch: 3 [7680/60000 (13%)]\tLoss: 0.225585\n",
      "Train Epoch: 3 [8320/60000 (14%)]\tLoss: 0.163283\n",
      "Train Epoch: 3 [8960/60000 (15%)]\tLoss: 0.327389\n",
      "Train Epoch: 3 [9600/60000 (16%)]\tLoss: 0.236695\n",
      "Train Epoch: 3 [10240/60000 (17%)]\tLoss: 0.407474\n",
      "Train Epoch: 3 [10880/60000 (18%)]\tLoss: 0.364841\n",
      "Train Epoch: 3 [11520/60000 (19%)]\tLoss: 0.286844\n",
      "Train Epoch: 3 [12160/60000 (20%)]\tLoss: 0.279517\n",
      "Train Epoch: 3 [12800/60000 (21%)]\tLoss: 0.411664\n",
      "Train Epoch: 3 [13440/60000 (22%)]\tLoss: 0.465671\n",
      "Train Epoch: 3 [14080/60000 (23%)]\tLoss: 0.451551\n",
      "Train Epoch: 3 [14720/60000 (25%)]\tLoss: 0.439095\n",
      "Train Epoch: 3 [15360/60000 (26%)]\tLoss: 0.314011\n",
      "Train Epoch: 3 [16000/60000 (27%)]\tLoss: 0.351237\n",
      "Train Epoch: 3 [16640/60000 (28%)]\tLoss: 0.282566\n",
      "Train Epoch: 3 [17280/60000 (29%)]\tLoss: 0.364026\n",
      "Train Epoch: 3 [17920/60000 (30%)]\tLoss: 0.243697\n",
      "Train Epoch: 3 [18560/60000 (31%)]\tLoss: 0.227411\n",
      "Train Epoch: 3 [19200/60000 (32%)]\tLoss: 0.464437\n",
      "Train Epoch: 3 [19840/60000 (33%)]\tLoss: 0.187302\n",
      "Train Epoch: 3 [20480/60000 (34%)]\tLoss: 0.259944\n",
      "Train Epoch: 3 [21120/60000 (35%)]\tLoss: 0.316034\n",
      "Train Epoch: 3 [21760/60000 (36%)]\tLoss: 0.380570\n",
      "Train Epoch: 3 [22400/60000 (37%)]\tLoss: 0.160626\n",
      "Train Epoch: 3 [23040/60000 (38%)]\tLoss: 0.395382\n",
      "Train Epoch: 3 [23680/60000 (39%)]\tLoss: 0.178887\n",
      "Train Epoch: 3 [24320/60000 (41%)]\tLoss: 0.202000\n",
      "Train Epoch: 3 [24960/60000 (42%)]\tLoss: 0.282833\n",
      "Train Epoch: 3 [25600/60000 (43%)]\tLoss: 0.226114\n",
      "Train Epoch: 3 [26240/60000 (44%)]\tLoss: 0.321730\n",
      "Train Epoch: 3 [26880/60000 (45%)]\tLoss: 0.302181\n",
      "Train Epoch: 3 [27520/60000 (46%)]\tLoss: 0.443202\n",
      "Train Epoch: 3 [28160/60000 (47%)]\tLoss: 0.281026\n",
      "Train Epoch: 3 [28800/60000 (48%)]\tLoss: 0.246257\n",
      "Train Epoch: 3 [29440/60000 (49%)]\tLoss: 0.386659\n",
      "Train Epoch: 3 [30080/60000 (50%)]\tLoss: 0.272381\n",
      "Train Epoch: 3 [30720/60000 (51%)]\tLoss: 0.309775\n",
      "Train Epoch: 3 [31360/60000 (52%)]\tLoss: 0.357663\n",
      "Train Epoch: 3 [32000/60000 (53%)]\tLoss: 0.232239\n",
      "Train Epoch: 3 [32640/60000 (54%)]\tLoss: 0.587027\n",
      "Train Epoch: 3 [33280/60000 (55%)]\tLoss: 0.199839\n",
      "Train Epoch: 3 [33920/60000 (57%)]\tLoss: 0.342070\n",
      "Train Epoch: 3 [34560/60000 (58%)]\tLoss: 0.187622\n",
      "Train Epoch: 3 [35200/60000 (59%)]\tLoss: 0.242870\n",
      "Train Epoch: 3 [35840/60000 (60%)]\tLoss: 0.196601\n",
      "Train Epoch: 3 [36480/60000 (61%)]\tLoss: 0.231588\n",
      "Train Epoch: 3 [37120/60000 (62%)]\tLoss: 0.341185\n",
      "Train Epoch: 3 [37760/60000 (63%)]\tLoss: 0.409763\n",
      "Train Epoch: 3 [38400/60000 (64%)]\tLoss: 0.178115\n",
      "Train Epoch: 3 [39040/60000 (65%)]\tLoss: 0.122176\n",
      "Train Epoch: 3 [39680/60000 (66%)]\tLoss: 0.248660\n",
      "Train Epoch: 3 [40320/60000 (67%)]\tLoss: 0.278413\n",
      "Train Epoch: 3 [40960/60000 (68%)]\tLoss: 0.313577\n",
      "Train Epoch: 3 [41600/60000 (69%)]\tLoss: 0.251554\n",
      "Train Epoch: 3 [42240/60000 (70%)]\tLoss: 0.253297\n",
      "Train Epoch: 3 [42880/60000 (71%)]\tLoss: 0.344054\n",
      "Train Epoch: 3 [43520/60000 (72%)]\tLoss: 0.252563\n",
      "Train Epoch: 3 [44160/60000 (74%)]\tLoss: 0.255477\n",
      "Train Epoch: 3 [44800/60000 (75%)]\tLoss: 0.171451\n",
      "Train Epoch: 3 [45440/60000 (76%)]\tLoss: 0.232733\n",
      "Train Epoch: 3 [46080/60000 (77%)]\tLoss: 0.320519\n",
      "Train Epoch: 3 [46720/60000 (78%)]\tLoss: 0.222487\n",
      "Train Epoch: 3 [47360/60000 (79%)]\tLoss: 0.323903\n",
      "Train Epoch: 3 [48000/60000 (80%)]\tLoss: 0.223244\n",
      "Train Epoch: 3 [48640/60000 (81%)]\tLoss: 0.174259\n",
      "Train Epoch: 3 [49280/60000 (82%)]\tLoss: 0.312906\n",
      "Train Epoch: 3 [49920/60000 (83%)]\tLoss: 0.194723\n",
      "Train Epoch: 3 [50560/60000 (84%)]\tLoss: 0.516060\n",
      "Train Epoch: 3 [51200/60000 (85%)]\tLoss: 0.304952\n",
      "Train Epoch: 3 [51840/60000 (86%)]\tLoss: 0.144448\n",
      "Train Epoch: 3 [52480/60000 (87%)]\tLoss: 0.357340\n",
      "Train Epoch: 3 [53120/60000 (88%)]\tLoss: 0.348063\n",
      "Train Epoch: 3 [53760/60000 (90%)]\tLoss: 0.337593\n",
      "Train Epoch: 3 [54400/60000 (91%)]\tLoss: 0.379176\n",
      "Train Epoch: 3 [55040/60000 (92%)]\tLoss: 0.358458\n",
      "Train Epoch: 3 [55680/60000 (93%)]\tLoss: 0.247744\n",
      "Train Epoch: 3 [56320/60000 (94%)]\tLoss: 0.311742\n",
      "Train Epoch: 3 [56960/60000 (95%)]\tLoss: 0.108957\n",
      "Train Epoch: 3 [57600/60000 (96%)]\tLoss: 0.159629\n",
      "Train Epoch: 3 [58240/60000 (97%)]\tLoss: 0.355631\n",
      "Train Epoch: 3 [58880/60000 (98%)]\tLoss: 0.486136\n",
      "Train Epoch: 3 [59520/60000 (99%)]\tLoss: 0.314408\n",
      "\n",
      "Test set: Avg. loss: 0.0925, Accuracy: 9716/10000 (97%)\n",
      "\n"
     ]
    }
   ],
   "source": [
    "test()\n",
    "for epoch in range(1, n_epochs + 1):\n",
    "  train(epoch)\n",
    "  test()"
   ]
  },
  {
   "cell_type": "code",
   "execution_count": 15,
   "metadata": {},
   "outputs": [
    {
     "data": {
      "text/plain": [
       "([], [])"
      ]
     },
     "execution_count": 15,
     "metadata": {},
     "output_type": "execute_result"
    },
    {
     "data": {
      "image/png": "[encoded data removed]",
      "text/plain": [
       "<Figure size 640x480 with 1 Axes>"
      ]
     },
     "metadata": {},
     "output_type": "display_data"
    }
   ],
   "source": [
    "fig = plt.figure()\n",
    "plt.plot(train_counter, train_losses, color='blue')\n",
    "plt.scatter(test_counter, test_losses, color='red')\n",
    "plt.legend(['Train Loss', 'Test Loss'], loc='upper right')\n",
    "plt.xlabel('number of training examples seen')\n",
    "plt.ylabel('negative log likelihood loss')\n",
    "plt.xticks([])\n",
    "plt.yticks([])"
   ]
  },
  {
   "cell_type": "code",
   "execution_count": 16,
   "metadata": {},
   "outputs": [
    {
     "name": "stderr",
     "output_type": "stream",
     "text": [
      "C:\\Users\\huand\\AppData\\Local\\Temp\\ipykernel_21120\\161431047.py:17: UserWarning: Implicit dimension choice for log_softmax has been deprecated. Change the call to include dim=X as an argument.\n",
      "  return F.log_softmax(x)\n"
     ]
    }
   ],
   "source": [
    "with torch.no_grad():\n",
    "  output = network(example_data.cuda())"
   ]
  },
  {
   "cell_type": "code",
   "execution_count": 17,
   "metadata": {},
   "outputs": [
    {
     "data": {
      "image/png": "[encoded data removed]",
      "text/plain": [
       "<Figure size 640x480 with 6 Axes>"
      ]
     },
     "metadata": {},
     "output_type": "display_data"
    }
   ],
   "source": [
    "fig = plt.figure()\n",
    "for i in range(6):\n",
    "  plt.subplot(2,3,i+1)\n",
    "  plt.tight_layout()\n",
    "  plt.imshow(example_data[i][0], cmap='gray', interpolation='none')\n",
    "  plt.title(\"Prediction: {}\".format(\n",
    "    output.data.max(1, keepdim=True)[1][i].item()))\n",
    "  plt.xticks([])\n",
    "  plt.yticks([])"
   ]
  }
 ],
 "metadata": {
  "kernelspec": {
   "display_name": "digits",
   "language": "python",
   "name": "python3"
  },
  "language_info": {
   "codemirror_mode": {
    "name": "ipython",
    "version": 3
   },
   "file_extension": ".py",
   "mimetype": "text/x-python",
   "name": "python",
   "nbconvert_exporter": "python",
   "pygments_lexer": "ipython3",
   "version": "3.11.10"
  }
 },
 "nbformat": 4,
 "nbformat_minor": 2
}
