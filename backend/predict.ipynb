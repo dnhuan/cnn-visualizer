{
 "cells": [
  {
   "cell_type": "code",
   "execution_count": 1,
   "metadata": {},
   "outputs": [
    {
     "name": "stdout",
     "output_type": "stream",
     "text": [
      "1\n",
      "28\n"
     ]
    }
   ],
   "source": [
    "import json\n",
    "import numpy as np\n",
    "\n",
    "\n",
    "with open(\"files/3.json\", \"r\") as f:\n",
    "    example_data = json.load(f)\n",
    "\n",
    "print(len(example_data))\n",
    "print(len(example_data[0]))\n"
   ]
  },
  {
   "cell_type": "code",
   "execution_count": 2,
   "metadata": {},
   "outputs": [],
   "source": [
    "def softmax(x):\n",
    "    return np.exp(x) / np.sum(np.exp(x), axis=0)"
   ]
  },
  {
   "cell_type": "code",
   "execution_count": 3,
   "metadata": {},
   "outputs": [],
   "source": [
    "class FCNN:\n",
    "    def __init__(self, weights_biases):\n",
    "        self.net = {\n",
    "            \"fc1\" : np.array(weights_biases[\"fc1.weight\"]),\n",
    "            \"fc1_b\" : np.array(weights_biases[\"fc1.bias\"]),\n",
    "            \"fc2\" : np.array(weights_biases[\"fc2.weight\"]),\n",
    "            \"fc2_b\" : np.array(weights_biases[\"fc2.bias\"]),\n",
    "            \"fc3\" : np.array(weights_biases[\"fc3.weight\"]),\n",
    "            \"fc3_b\" : np.array(weights_biases[\"fc3.bias\"])\n",
    "        }\n",
    "        self.cache = {}\n",
    "\n",
    "    def forward(self, x):\n",
    "        self.cache[\"input\"] = x\n",
    "        self.cache[\"Z1\"] = np.dot(self.net[\"fc1\"], x) + self.net[\"fc1_b\"]\n",
    "        self.cache[\"A1\"] = np.maximum(0, self.cache[\"Z1\"])\n",
    "        self.cache[\"Z2\"] = np.dot(self.net[\"fc2\"], self.cache[\"A1\"]) + self.net[\"fc2_b\"]\n",
    "        self.cache[\"A2\"] = np.maximum(0, self.cache[\"Z2\"])\n",
    "        self.cache[\"Z3\"] = np.dot(self.net[\"fc3\"], self.cache[\"A2\"]) + self.net[\"fc3_b\"]\n",
    "        self.returnCache = {\"A1\": self.cache[\"A1\"], \"A2\": self.cache[\"A2\"]}\n",
    "\n",
    "        return self.cache[\"Z3\"], self.returnCache\n",
    "    \n"
   ]
  },
  {
   "cell_type": "code",
   "execution_count": 4,
   "metadata": {},
   "outputs": [
    {
     "name": "stdout",
     "output_type": "stream",
     "text": [
      "[-10.363218323908793, -16.958643000827003, -14.790405333811714, -7.451759774733765, 6.8357078732881815, -7.317275141211264, -17.333447608232568, -2.7809196282168167, -4.3920124809258665, 13.847114653329719]\n",
      "[0.0, 0.0, 0.0, 0.0, 0.0, 0.0, 12.497729961760342, 0.0, 0.0, 0.0, 0.003748663642909378, 3.085961877484806, 0.0, 0.0, 0.0, 0.0, 18.960992737673223, 0.0, 0.0, 0.0, 0.0, 0.0, 0.0, 0.0, 0.0, 0.0, 0.0, 16.193398600444198, 0.0, 0.0, 11.41588999144733, 0.0, 0.0, 0.0, 20.561661352869123, 0.0, 0.0, 0.0, 0.0, 0.0, 0.0, 0.0, 10.904145084321499, 0.0, 0.0, 0.0, 0.0, 0.0, 0.0, 0.0]\n",
      "[0.0, 0.0, 0.0, 0.0, 0.0, 0.0, 0.0, 0.0, 0.0, 0.0, 0.0, 0.0, 0.0, 0.0, 0.0, 0.0, 0.0, 0.0, 0.0, 0.0, 0.0, 0.0, 0.0, 0.0, 0.0, 0.0, 12.985098179392542, 0.0, 0.0, 0.0, 0.0, 0.0, 0.0, 0.0, 0.0, 0.0, 0.0, 5.4729400160862705, 0.0, 0.0, 22.68924358086117, 0.0, 11.694561771395996, 0.0, 0.0, 0.0, 0.0, 0.0, 0.0, 0.0]\n"
     ]
    }
   ],
   "source": [
    "with open(\"files/weights.json\", \"r\") as f:\n",
    "    weights_biases = json.load(f)\n",
    "\n",
    "fcnn = FCNN(weights_biases)\n",
    "np.set_printoptions(suppress=True)\n",
    "\n",
    "prediction, cache = fcnn.forward(np.array(example_data).flatten())\n",
    "print(prediction.tolist())\n",
    "print(cache[\"A1\"].tolist())\n",
    "print(cache[\"A2\"].tolist())\n",
    "\n",
    "\n"
   ]
  }
 ],
 "metadata": {
  "kernelspec": {
   "display_name": "digits",
   "language": "python",
   "name": "python3"
  },
  "language_info": {
   "codemirror_mode": {
    "name": "ipython",
    "version": 3
   },
   "file_extension": ".py",
   "mimetype": "text/x-python",
   "name": "python",
   "nbconvert_exporter": "python",
   "pygments_lexer": "ipython3",
   "version": "3.11.10"
  }
 },
 "nbformat": 4,
 "nbformat_minor": 2
}
