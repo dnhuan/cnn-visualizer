{
 "cells": [
  {
   "cell_type": "code",
   "execution_count": 46,
   "metadata": {},
   "outputs": [
    {
     "name": "stdout",
     "output_type": "stream",
     "text": [
      "28\n",
      "28\n"
     ]
    }
   ],
   "source": [
    "import json\n",
    "import numpy as np\n",
    "\n",
    "\n",
    "with open(\"files/3.json\", \"r\") as f:\n",
    "    example_data = json.load(f)\n",
    "\n",
    "print(len(example_data))\n",
    "print(len(example_data[0]))\n"
   ]
  },
  {
   "cell_type": "code",
   "execution_count": 47,
   "metadata": {},
   "outputs": [],
   "source": [
    "def softmax(x):\n",
    "    return np.exp(x) / np.sum(np.exp(x), axis=0)"
   ]
  },
  {
   "cell_type": "code",
   "execution_count": 49,
   "metadata": {},
   "outputs": [],
   "source": [
    "# input layer: 784 nodes in, 16 nodes for ReLU activation\n",
    "# hidden layer: 16 nodes in, 16 nodes for ReLU activation\n",
    "# output layer: 16 nodes in, 10 nodes out for softmax\n",
    "\n",
    "class FCNN:\n",
    "    def __init__(self, weights_biases):\n",
    "        self.input_layer_size = 784\n",
    "        self.hidden_layer_size = 16\n",
    "        self.output_layer_size = 10\n",
    "        self.net = {\n",
    "            \"fc1\" : np.array(weights_biases[\"fc1.weight\"]),\n",
    "            \"fc1_b\" : np.array(weights_biases[\"fc1.bias\"]),\n",
    "            \"fc2\" : np.array(weights_biases[\"fc2.weight\"]),\n",
    "            \"fc2_b\" : np.array(weights_biases[\"fc2.bias\"]),\n",
    "            \"fc3\" : np.array(weights_biases[\"fc3.weight\"]),\n",
    "            \"fc3_b\" : np.array(weights_biases[\"fc3.bias\"])\n",
    "        }\n",
    "        self.cache = {}\n",
    "\n",
    "    def forward(self, x):\n",
    "        self.cache[\"input\"] = x\n",
    "        self.cache[\"Z1\"] = np.dot(self.net[\"fc1\"], x) + self.net[\"fc1_b\"]\n",
    "        self.cache[\"A1\"] = np.maximum(0, self.cache[\"Z1\"])\n",
    "        self.cache[\"Z2\"] = np.dot(self.net[\"fc2\"], self.cache[\"A1\"]) + self.net[\"fc2_b\"]\n",
    "        self.cache[\"A2\"] = np.maximum(0, self.cache[\"Z2\"])\n",
    "        self.cache[\"Z3\"] = np.dot(self.net[\"fc3\"], self.cache[\"A2\"]) + self.net[\"fc3_b\"]\n",
    "        self.returnCache = {\"A1\": self.cache[\"A1\"], \"A2\": self.cache[\"A2\"]}\n",
    "\n",
    "        return self.cache[\"Z3\"], self.returnCache\n",
    "    \n"
   ]
  },
  {
   "cell_type": "code",
   "execution_count": 50,
   "metadata": {},
   "outputs": [
    {
     "name": "stdout",
     "output_type": "stream",
     "text": [
      "[-5.510634370283105, -8.475580897422102, -2.5264166772986525, 1.7757839533425095, 1.2008024874195264, -0.785583765619839, -13.807361313370908, 2.01412340112416, -0.32016068187792035, 8.862287094684927]\n",
      "[0.0, 3.8516529233129404, 0.5963079014327377, 2.2532153974025277, 0.0, 0.0, 9.92486752133118, 4.803377261647256, 4.5286374942807015, 0.0, 0.0, 0.0, 14.743007283192128, 0.0, 0.0, 0.0]\n",
      "[5.866893967128485, 0.0, 0.0, 3.3990556623950425, 0.0, 0.0, 10.650892670023854, 3.9243133245286828, 0.0, 0.0, 1.7561584017751324, 0.0, 0.0, 0.0, 0.0, 9.134468980355862]\n"
     ]
    }
   ],
   "source": [
    "with open(\"files/weights.json\", \"r\") as f:\n",
    "    weights_biases = json.load(f)\n",
    "\n",
    "fcnn = FCNN(weights_biases)\n",
    "np.set_printoptions(suppress=True)\n",
    "\n",
    "prediction, cache = fcnn.forward(np.array(example_data).flatten())\n",
    "print(prediction.tolist())\n",
    "print(cache[\"A1\"].tolist())\n",
    "print(cache[\"A2\"].tolist())\n",
    "\n",
    "\n"
   ]
  }
 ],
 "metadata": {
  "kernelspec": {
   "display_name": "digits",
   "language": "python",
   "name": "python3"
  },
  "language_info": {
   "codemirror_mode": {
    "name": "ipython",
    "version": 3
   },
   "file_extension": ".py",
   "mimetype": "text/x-python",
   "name": "python",
   "nbconvert_exporter": "python",
   "pygments_lexer": "ipython3",
   "version": "3.11.10"
  }
 },
 "nbformat": 4,
 "nbformat_minor": 2
}
